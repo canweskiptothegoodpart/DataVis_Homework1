{
 "cells": [
  {
   "cell_type": "code",
   "execution_count": 1,
   "metadata": {},
   "outputs": [
    {
     "name": "stdout",
     "output_type": "stream",
     "text": [
      "Top 3 Most Frequent Crime Descriptions:\n",
      "Crm Cd Desc\n",
      "VEHICLE - STOLEN            5733\n",
      "BATTERY - SIMPLE ASSAULT    3715\n",
      "THEFT OF IDENTITY           3169\n",
      "Name: count, dtype: int64\n"
     ]
    }
   ],
   "source": [
    "import pandas as pd\n",
    "data = pd.read_csv(r\"C:\\Users\\USER\\OneDrive\\Desktop\\DataVis_Homework1\\crime_data_cleaned.csv\")\n",
    "top_crimes = data['Crm Cd Desc'].value_counts().head(3)\n",
    "print(\"Top 3 Most Frequent Crime Descriptions:\")\n",
    "print(top_crimes)"
   ]
  },
  {
   "cell_type": "code",
   "execution_count": 3,
   "metadata": {},
   "outputs": [
    {
     "name": "stdout",
     "output_type": "stream",
     "text": [
      "    Hour  Crime_Count\n",
      "0      0         2025\n",
      "1      1         1490\n",
      "2      2         1241\n",
      "3      3         1063\n",
      "4      4          975\n",
      "5      5          848\n",
      "6      6         1106\n",
      "7      7         1302\n",
      "8      8         1776\n",
      "9      9         1841\n",
      "10    10         2110\n",
      "11    11         2114\n",
      "12    12         3446\n",
      "13    13         2246\n",
      "14    14         2504\n",
      "15    15         2667\n",
      "16    16         2597\n",
      "17    17         2914\n",
      "18    18         3015\n",
      "19    19         2762\n",
      "20    20         2830\n",
      "21    21         2553\n",
      "22    22         2469\n",
      "23    23         2106\n"
     ]
    }
   ],
   "source": [
    "import pandas as pd\n",
    "\n",
    "data = pd.read_csv(r\"C:\\Users\\USER\\OneDrive\\Desktop\\DataVis_Homework1\\crime_data_transformed.csv\")\n",
    "crime_by_hour = data.groupby('Hour').size().reset_index(name='Crime_Count')\n",
    "crime_by_hour = crime_by_hour.sort_values(by='Hour')\n",
    "print(crime_by_hour)"
   ]
  },
  {
   "cell_type": "code",
   "execution_count": 4,
   "metadata": {},
   "outputs": [
    {
     "name": "stdout",
     "output_type": "stream",
     "text": [
      "          Total_Crimes  Avg_Victim_Age\n",
      "Vict Sex                              \n",
      "M                20076       37.165621\n",
      "F                17922       38.164156\n",
      "X                 4836        2.672043\n",
      "H                    3       36.333333\n"
     ]
    }
   ],
   "source": [
    "import pandas as pd\n",
    "data = pd.read_csv(r\"C:\\Users\\USER\\OneDrive\\Desktop\\DataVis_Homework1\\crime_data_cleaned.csv\")\n",
    "\n",
    "victim_stats = data.groupby('Vict Sex').agg(\n",
    "    Total_Crimes=('DR_NO', 'count'), \n",
    "    Avg_Victim_Age=('Vict Age', 'mean')  \n",
    ")\n",
    "victim_stats = victim_stats.sort_values(by='Total_Crimes', ascending=False)\n",
    "print(victim_stats)"
   ]
  }
 ],
 "metadata": {
  "kernelspec": {
   "display_name": "Python 3",
   "language": "python",
   "name": "python3"
  },
  "language_info": {
   "codemirror_mode": {
    "name": "ipython",
    "version": 3
   },
   "file_extension": ".py",
   "mimetype": "text/x-python",
   "name": "python",
   "nbconvert_exporter": "python",
   "pygments_lexer": "ipython3",
   "version": "3.10.5"
  }
 },
 "nbformat": 4,
 "nbformat_minor": 2
}
