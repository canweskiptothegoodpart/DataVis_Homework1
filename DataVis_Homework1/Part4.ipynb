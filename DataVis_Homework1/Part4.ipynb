{
 "cells": [
  {
   "cell_type": "code",
   "execution_count": 3,
   "metadata": {},
   "outputs": [
    {
     "name": "stdout",
     "output_type": "stream",
     "text": [
      "      AREA NAME  Severity Score\n",
      "1       Central            9603\n",
      "0   77th Street            9479\n",
      "14    Southeast            7321\n",
      "15    Southwest            7265\n",
      "9        Newton            7135\n",
      "6     Hollywood            7084\n",
      "12      Pacific            7012\n",
      "11      Olympic            6619\n",
      "13      Rampart            6526\n",
      "8   N Hollywood            5823\n",
      "20     Wilshire            5583\n",
      "19  West Valley            5324\n",
      "18      West LA            5131\n",
      "4        Harbor            5104\n",
      "17     Van Nuys            5050\n",
      "10    Northeast            4811\n",
      "2    Devonshire            4771\n",
      "16      Topanga            4768\n",
      "7       Mission            4671\n",
      "5    Hollenbeck            4629\n",
      "3      Foothill            3999\n"
     ]
    }
   ],
   "source": [
    "import pandas as pd\n",
    "data = pd.read_csv( r\"C:\\Users\\USER\\OneDrive\\Desktop\\DataVis_Homework1\\crime_data.csv\")\n",
    "data['Weapon Used Cd'] = data['Weapon Used Cd'].astype(str)  \n",
    "data['Crm Cd Desc'] = data['Crm Cd Desc'].astype(str)  \n",
    "data['Severity Score'] = 1\n",
    "data.loc[data['Crm Cd Desc'].str.contains(\"BURGLARY\", case=False, na=False), 'Severity Score'] += 2 \n",
    "data.loc[data['Weapon Used Cd'].notna() & (data['Weapon Used Cd'] != 'nan'), 'Severity Score'] += 4 \n",
    "severity_by_area = data.groupby('AREA NAME')['Severity Score'].sum().reset_index()\n",
    "severity_by_area = severity_by_area.sort_values(by='Severity Score', ascending=False)\n",
    "print(severity_by_area)\n",
    "\n"
   ]
  }
 ],
 "metadata": {
  "kernelspec": {
   "display_name": "Python 3",
   "language": "python",
   "name": "python3"
  },
  "language_info": {
   "codemirror_mode": {
    "name": "ipython",
    "version": 3
   },
   "file_extension": ".py",
   "mimetype": "text/x-python",
   "name": "python",
   "nbconvert_exporter": "python",
   "pygments_lexer": "ipython3",
   "version": "3.10.5"
  }
 },
 "nbformat": 4,
 "nbformat_minor": 2
}
