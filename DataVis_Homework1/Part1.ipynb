{
 "cells": [
  {
   "cell_type": "code",
   "execution_count": 7,
   "metadata": {},
   "outputs": [
    {
     "name": "stdout",
     "output_type": "stream",
     "text": [
      "       DR_NO               Date Rptd                DATE OCC  TIME OCC  AREA  \\\n",
      "0  241711715  08/01/2024 12:00:00 AM  08/01/2024 12:00:00 AM      1319    17   \n",
      "1  231014031  09/21/2023 12:00:00 AM  09/15/2023 12:00:00 AM      1930    10   \n",
      "2  231010808  06/27/2023 12:00:00 AM  06/26/2023 12:00:00 AM      1230    10   \n",
      "3  211410441  04/25/2021 12:00:00 AM  04/25/2021 12:00:00 AM      2330    14   \n",
      "4  211114569  10/25/2021 12:00:00 AM  10/25/2021 12:00:00 AM      1455    11   \n",
      "\n",
      "     AREA NAME  Rpt Dist No  Part 1-2  Crm Cd  \\\n",
      "0   Devonshire         1791         1     440   \n",
      "1  West Valley         1011         2     354   \n",
      "2  West Valley         1015         2     354   \n",
      "3      Pacific         1488         2     626   \n",
      "4    Northeast         1123         1     210   \n",
      "\n",
      "                          Crm Cd Desc  ... Status  Status Desc Crm Cd 1  \\\n",
      "0  THEFT PLAIN - PETTY ($950 & UNDER)  ...     IC  Invest Cont    440.0   \n",
      "1                   THEFT OF IDENTITY  ...     IC  Invest Cont    354.0   \n",
      "2                   THEFT OF IDENTITY  ...     IC  Invest Cont    354.0   \n",
      "3   INTIMATE PARTNER - SIMPLE ASSAULT  ...     IC  Invest Cont    626.0   \n",
      "4                             ROBBERY  ...     IC  Invest Cont    210.0   \n",
      "\n",
      "  Crm Cd 2  Crm Cd 3 Crm Cd 4                                  LOCATION  \\\n",
      "0      NaN       NaN      NaN   8300    KELVIN                       AV   \n",
      "1      NaN       NaN      NaN  18900    CANTLAY                      ST   \n",
      "2      NaN       NaN      NaN   7300    ENFIELD                      AV   \n",
      "3      NaN       NaN      NaN   5800 W  CENTURY                      BL   \n",
      "4      NaN       NaN      NaN   2900    LOS FELIZ                    BL   \n",
      "\n",
      "  Cross Street      LAT       LON  \n",
      "0          NaN  34.2200 -118.5863  \n",
      "1          NaN  34.2023 -118.5458  \n",
      "2          NaN  34.2033 -118.5241  \n",
      "3          NaN  33.9456 -118.3835  \n",
      "4          NaN   0.0000    0.0000  \n",
      "\n",
      "[5 rows x 28 columns]\n"
     ]
    }
   ],
   "source": [
    "import pandas as pd\n",
    "data = pd.read_csv(r\"C:\\Users\\USER\\OneDrive\\Desktop\\DataVis_Homework1\\crime_data.csv\")\n",
    "print(data.head())"
   ]
  },
  {
   "cell_type": "code",
   "execution_count": null,
   "metadata": {},
   "outputs": [
    {
     "name": "stdout",
     "output_type": "stream",
     "text": [
      "missing values per column:\n",
      "DR_NO                 0\n",
      "Date Rptd             0\n",
      "DATE OCC              0\n",
      "TIME OCC              0\n",
      "AREA                  0\n",
      "AREA NAME             0\n",
      "Rpt Dist No           0\n",
      "Part 1-2              0\n",
      "Crm Cd                0\n",
      "Crm Cd Desc           0\n",
      "Mocodes            7498\n",
      "Vict Age              0\n",
      "Vict Sex           7163\n",
      "Vict Descent       7165\n",
      "Premis Cd             0\n",
      "Premis Desc          29\n",
      "Weapon Used Cd    33654\n",
      "Weapon Desc       33654\n",
      "Status                0\n",
      "Status Desc           0\n",
      "Crm Cd 1              2\n",
      "Crm Cd 2          46448\n",
      "Crm Cd 3          49885\n",
      "Crm Cd 4          49995\n",
      "LOCATION              0\n",
      "Cross Street      42258\n",
      "LAT                   0\n",
      "LON                   0\n",
      "dtype: int64\n",
      "Index(['DR_NO', 'Date Rptd', 'DATE OCC', 'TIME OCC', 'AREA', 'AREA NAME',\n",
      "       'Rpt Dist No', 'Part 1-2', 'Crm Cd', 'Crm Cd Desc', 'Mocodes',\n",
      "       'Vict Age', 'Vict Sex', 'Vict Descent', 'Premis Cd', 'Premis Desc',\n",
      "       'Status', 'Status Desc', 'Crm Cd 1', 'LOCATION', 'LAT', 'LON'],\n",
      "      dtype='object')\n"
     ]
    }
   ],
   "source": [
    "missing = data.isnull().sum()\n",
    "print(\"missing values per column:\")\n",
    "print(missing)\n",
    "filtered = data.dropna(axis=1, thresh=len(data)*0.5)\n",
    "filtered.to_csv(r\"C:\\Users\\USER\\OneDrive\\Desktop\\DataVis_Homework1\\crime_data_cleaned.csv\", index=False)\n"
   ]
  },
  {
   "cell_type": "code",
   "execution_count": 13,
   "metadata": {},
   "outputs": [
    {
     "name": "stderr",
     "output_type": "stream",
     "text": [
      "C:\\Users\\USER\\AppData\\Local\\Temp\\ipykernel_1920\\2492548358.py:4: UserWarning: Could not infer format, so each element will be parsed individually, falling back to `dateutil`. To ensure parsing is consistent and as-expected, please specify a format.\n",
      "  new_data['DATE OCC'] = pd.to_datetime(new_data['DATE OCC'], errors='coerce')\n"
     ]
    },
    {
     "name": "stdout",
     "output_type": "stream",
     "text": [
      "    DATE OCC  Year  Month  Day TIME OCC  Hour\n",
      "0 2024-08-01  2024      8    1     1319    13\n",
      "1 2023-09-15  2023      9   15     1930    19\n",
      "2 2023-06-26  2023      6   26     1230    12\n",
      "3 2021-04-25  2021      4   25     2330    23\n",
      "4 2021-10-25  2021     10   25     1455    14\n"
     ]
    }
   ],
   "source": [
    "import pandas as pd\n",
    "\n",
    "new_data = pd.read_csv(r\"C:\\Users\\USER\\OneDrive\\Desktop\\DataVis_Homework1\\crime_data_cleaned.csv\")\n",
    "new_data['DATE OCC'] = pd.to_datetime(new_data['DATE OCC'], errors='coerce')\n",
    "new_data['Year'] = new_data['DATE OCC'].dt.year\n",
    "new_data['Month'] = new_data['DATE OCC'].dt.month\n",
    "new_data['Day'] = new_data['DATE OCC'].dt.day\n",
    "new_data['TIME OCC'] = new_data['TIME OCC'].astype(str).str.zfill(4)  \n",
    "new_data['Hour'] = new_data['TIME OCC'].str[:2].astype(int)\n",
    "print(new_data[['DATE OCC', 'Year', 'Month', 'Day', 'TIME OCC', 'Hour']].head())\n",
    "new_data.to_csv(r\"C:\\Users\\USER\\OneDrive\\Desktop\\DataVis_Homework1\\crime_data_transformed.csv\", index = False)"
   ]
  },
  {
   "cell_type": "code",
   "execution_count": 14,
   "metadata": {},
   "outputs": [
    {
     "name": "stdout",
     "output_type": "stream",
     "text": [
      "         DR_NO               Date Rptd DATE OCC  TIME OCC  AREA  AREA NAME  \\\n",
      "47   231107877  04/15/2023 12:00:00 AM      NaT       500    11  Northeast   \n",
      "53   231312734  06/23/2023 12:00:00 AM      NaT      1100    13     Newton   \n",
      "130  241305432  01/31/2024 12:00:00 AM      NaT      2130    13     Newton   \n",
      "147  231912840  08/15/2023 12:00:00 AM      NaT      2200    19    Mission   \n",
      "158  230817252  11/21/2023 12:00:00 AM      NaT      1545     8    West LA   \n",
      "\n",
      "     Rpt Dist No  Part 1-2  Crm Cd            Crm Cd Desc  ... Status  \\\n",
      "47          1151         1     310               BURGLARY  ...     IC   \n",
      "53          1331         1     330  BURGLARY FROM VEHICLE  ...     IC   \n",
      "130         1385         1     330  BURGLARY FROM VEHICLE  ...     IC   \n",
      "147         1962         1     310               BURGLARY  ...     IC   \n",
      "158          802         1     330  BURGLARY FROM VEHICLE  ...     IC   \n",
      "\n",
      "     Status Desc Crm Cd 1                                  LOCATION      LAT  \\\n",
      "47   Invest Cont    310.0   5000 W  SUNSET                       BL  34.0981   \n",
      "53   Invest Cont    330.0   3200 S  GRAND                        AV  34.0216   \n",
      "130  Invest Cont    330.0   5800 S  CENTRAL                      AV  33.9857   \n",
      "147  Invest Cont    310.0  15000    CORE                         LN  34.2424   \n",
      "158  Invest Cont    330.0                    WILL ROGERS STATE PARK  34.0506   \n",
      "\n",
      "          LON  Year Month  Day Hour  \n",
      "47  -118.2983  2023     1   15    5  \n",
      "53  -118.2754  2023     6   23   11  \n",
      "130 -118.2628  2023     7   31   21  \n",
      "147 -118.4596  2023     8   14   22  \n",
      "158 -118.5131  2023    11   21   15  \n",
      "\n",
      "[5 rows x 26 columns]\n"
     ]
    }
   ],
   "source": [
    "import pandas as pd\n",
    "\n",
    "new_data = pd.read_csv(r\"C:\\Users\\USER\\OneDrive\\Desktop\\DataVis_Homework1\\crime_data_transformed.csv\")\n",
    "new_data['DATE OCC'] = pd.to_datetime(new_data['DATE OCC'], format=\"%m/%d/%Y\", errors='coerce')\n",
    "data_2023 = new_data[new_data['Year'] == 2023]\n",
    "burgarly_2023 = data_2023[data_2023['Crm Cd Desc'].str.contains(\"BURGLARY\", na=False, case=False)]\n",
    "print(burgarly_2023.head())"
   ]
  },
  {
   "cell_type": "code",
   "execution_count": 15,
   "metadata": {},
   "outputs": [
    {
     "name": "stdout",
     "output_type": "stream",
     "text": [
      "             Total_Crimes  Avg_Victim_Age\n",
      "AREA NAME                                \n",
      "Central              3517       28.481376\n",
      "77th Street          3115       29.151525\n",
      "Pacific              3004       28.978029\n",
      "Southwest            2831       29.048040\n",
      "Hollywood            2556       28.331377\n",
      "Newton               2537       25.054789\n",
      "Olympic              2523       27.732858\n",
      "N Hollywood          2503       28.346784\n",
      "Southeast            2459       28.362749\n",
      "Rampart              2388       26.273451\n",
      "Wilshire             2379       29.595628\n",
      "West LA              2249       30.307248\n",
      "Van Nuys             2162       31.748381\n",
      "West Valley          2114       30.640492\n",
      "Northeast            2103       28.732763\n",
      "Topanga              2076       34.018786\n",
      "Harbor               2052       26.983918\n",
      "Devonshire           2031       29.597735\n",
      "Mission              1933       29.609415\n",
      "Hollenbeck           1843       26.158437\n",
      "Foothill             1625       30.511385\n"
     ]
    }
   ],
   "source": [
    "import pandas as pd\n",
    "new_data = pd.read_csv(r\"C:\\Users\\USER\\OneDrive\\Desktop\\DataVis_Homework1\\crime_data_cleaned.csv\")\n",
    "new_data['Vict Age'] = pd.to_numeric(new_data['Vict Age'], errors='coerce')\n",
    "\n",
    "crime_stats = new_data.groupby('AREA NAME').agg(\n",
    "    Total_Crimes=('DR_NO', 'count'), \n",
    "    Avg_Victim_Age=('Vict Age', 'mean')\n",
    ")\n",
    "\n",
    "crime_stats_sorted = crime_stats.sort_values(by='Total_Crimes', ascending=False)\n",
    "\n",
    "print(crime_stats_sorted)\n",
    "crime_stats_sorted.to_csv(r\"C:\\Users\\USER\\OneDrive\\Desktop\\DataVis_Homework1\\crime_stats_by_area.csv\")\n",
    "\n",
    "\n"
   ]
  }
 ],
 "metadata": {
  "kernelspec": {
   "display_name": "Python 3",
   "language": "python",
   "name": "python3"
  },
  "language_info": {
   "codemirror_mode": {
    "name": "ipython",
    "version": 3
   },
   "file_extension": ".py",
   "mimetype": "text/x-python",
   "name": "python",
   "nbconvert_exporter": "python",
   "pygments_lexer": "ipython3",
   "version": "3.10.5"
  }
 },
 "nbformat": 4,
 "nbformat_minor": 2
}
