{
 "cells": [
  {
   "cell_type": "code",
   "execution_count": 2,
   "metadata": {},
   "outputs": [
    {
     "name": "stdout",
     "output_type": "stream",
     "text": [
      "Total crimes in downtown area: 2816\n",
      "        DR_NO               Date Rptd                DATE OCC  TIME OCC  AREA  \\\n",
      "10  200213278  08/02/2020 12:00:00 AM  08/01/2020 12:00:00 AM       700     2   \n",
      "16  240111628  05/20/2024 12:00:00 AM  05/19/2024 12:00:00 AM      1850     1   \n",
      "25  220120317  09/12/2022 12:00:00 AM  08/23/2022 12:00:00 AM      1200     1   \n",
      "31  210212596  07/29/2021 12:00:00 AM  07/29/2021 12:00:00 AM      1120     2   \n",
      "61  200120593  11/04/2020 12:00:00 AM  11/02/2020 12:00:00 AM      2030     1   \n",
      "\n",
      "   AREA NAME  Rpt Dist No  Part 1-2  Crm Cd  \\\n",
      "10   Rampart          249         1     420   \n",
      "16   Central          161         1     442   \n",
      "25   Central          156         1     310   \n",
      "31   Rampart          257         1     420   \n",
      "61   Central          176         2     740   \n",
      "\n",
      "                                          Crm Cd Desc  ... Status  \\\n",
      "10    THEFT FROM MOTOR VEHICLE - PETTY ($950 & UNDER)  ...     IC   \n",
      "16           SHOPLIFTING - PETTY THEFT ($950 & UNDER)  ...     IC   \n",
      "25                                           BURGLARY  ...     IC   \n",
      "31    THEFT FROM MOTOR VEHICLE - PETTY ($950 & UNDER)  ...     IC   \n",
      "61  VANDALISM - FELONY ($400 & OVER, ALL CHURCH VA...  ...     IC   \n",
      "\n",
      "    Status Desc Crm Cd 1 Crm Cd 2  Crm Cd 3 Crm Cd 4  \\\n",
      "10  Invest Cont    420.0      NaN       NaN      NaN   \n",
      "16  Invest Cont    442.0      NaN       NaN      NaN   \n",
      "25  Invest Cont    310.0      NaN       NaN      NaN   \n",
      "31  Invest Cont    420.0    998.0       NaN      NaN   \n",
      "61  Invest Cont    740.0      NaN       NaN      NaN   \n",
      "\n",
      "                                   LOCATION Cross Street      LAT       LON  \n",
      "10  1100    WILSHIRE                     BL          NaN  34.0523 -118.2633  \n",
      "16   700 S  FIGUEROA                     ST          NaN  34.0483 -118.2631  \n",
      "25   500    WALL                         ST          NaN  34.0449 -118.2458  \n",
      "31          7TH                          ST      GARLAND  34.0517 -118.2663  \n",
      "61          8TH                          ST        MAPLE  34.0408 -118.2512  \n",
      "\n",
      "[5 rows x 28 columns]\n"
     ]
    }
   ],
   "source": [
    "import pandas as pd\n",
    "data = pd.read_csv(r\"C:\\Users\\USER\\OneDrive\\Desktop\\DataVis_Homework1\\crime_data.csv\")\n",
    "lat_min, lat_max = 34.0400, 34.0600 \n",
    "lon_min, lon_max = -118.2700, -118.2400  \n",
    "downtown_crimes = data[\n",
    "    (data[\"LAT\"] >= lat_min) & (data[\"LAT\"] <= lat_max) &\n",
    "    (data[\"LON\"] >= lon_min) & (data[\"LON\"] <= lon_max)\n",
    "]\n",
    "print(f\"Total crimes in downtown area: {len(downtown_crimes)}\")\n",
    "print(downtown_crimes.head())\n"
   ]
  }
 ],
 "metadata": {
  "kernelspec": {
   "display_name": "Python 3",
   "language": "python",
   "name": "python3"
  },
  "language_info": {
   "codemirror_mode": {
    "name": "ipython",
    "version": 3
   },
   "file_extension": ".py",
   "mimetype": "text/x-python",
   "name": "python",
   "nbconvert_exporter": "python",
   "pygments_lexer": "ipython3",
   "version": "3.10.5"
  }
 },
 "nbformat": 4,
 "nbformat_minor": 2
}
